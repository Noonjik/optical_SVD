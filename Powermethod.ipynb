{
 "cells": [
  {
   "cell_type": "code",
   "execution_count": 34,
   "source": [
    "import numpy as np\r\n",
    "import matplotlib.pyplot as plt"
   ],
   "outputs": [],
   "metadata": {}
  },
  {
   "cell_type": "code",
   "execution_count": 89,
   "source": [
    "def PowerMethod(A, x0, tol = 10**-5, max_iter = 50, type = 'normal'):\r\n",
    "    err = 1\r\n",
    "    iter = 0 \r\n",
    "    eig_old = (A@x0)@x0/(x0@x0)\r\n",
    "    while err >= tol or iter<=max_iter:\r\n",
    "        if type =='normal':\r\n",
    "            v_new = A@x0\r\n",
    "        elif type == 'abs':\r\n",
    "            v_new = A@np.abs(x0)\r\n",
    "        v_new = v_new/np.linalg.norm(v_new)\r\n",
    "        eig_new = ((A@v_new)@v_new)/(v_new@v_new)\r\n",
    "        err = np.abs((eig_new - eig_old))/np.abs(eig_new)\r\n",
    "        \r\n",
    "        iter +=1 \r\n",
    "        x0 = v_new\r\n",
    "        eig_old = eig_new\r\n",
    "\r\n",
    "    return eig_new, v_new, iter\r\n",
    "\r\n",
    "def numpy_eig(A):\r\n",
    "    eigenvalues, eigenvectors = np.linalg.eig(A)\r\n",
    "    eigenvalues_abs = list(abs(eigenvalues))\r\n",
    "    idx = eigenvalues_abs.index(max(eigenvalues_abs))\r\n",
    "    eigenvalue_max = eigenvalues[idx]\r\n",
    "    return eigenvalue_max, eigenvectors\r\n",
    "\r\n"
   ],
   "outputs": [],
   "metadata": {}
  },
  {
   "cell_type": "code",
   "execution_count": 90,
   "source": [
    "def Error(A, eigval, eigvec):\r\n",
    "    error_mean =np.abs(np.mean(A@eigvec - eigvec*eigval))\r\n",
    "    error_sum = np.abs(np.sum(A@eigvec - eigvec*eigval))\r\n",
    "    error_max = np.max(np.abs(A@eigvec - eigvec*eigval))\r\n",
    "    return error_mean , error_sum, error_max"
   ],
   "outputs": [],
   "metadata": {}
  },
  {
   "cell_type": "markdown",
   "source": [
    "<b>checking methods for random complex matrix</b>"
   ],
   "metadata": {}
  },
  {
   "cell_type": "code",
   "execution_count": 92,
   "source": [
    "i = 2\r\n",
    "C= np.random.normal( 1, 5, size=(i,i))+np.random.randint( 1, 5, size=(i,i))*1j\r\n",
    "x0 = np.ones(i)+np.ones(i)*1j\r\n",
    "eig1 = PowerMethod(C, x0)\r\n",
    "eig2 = PowerMethod(C,x0, type='abs')\r\n",
    "eig3 = numpy_eig(C)\r\n",
    "print(\"matrix: \", C, '\\n')\r\n",
    "print(\"Power Method: \", eig1, '\\n')\r\n",
    "print(\"Power Method abs: \", eig2, '\\n')\r\n",
    "print('Numpy: ', eig3, '\\n')\r\n",
    "print(eig1[0]-eig3[0], '\\n')\r\n",
    "print(eig2[0]-eig3[0])\r\n",
    "\r\n",
    "\r\n"
   ],
   "outputs": [
    {
     "output_type": "stream",
     "name": "stdout",
     "text": [
      "matrix:  [[-6.05924746+3.j 10.87942303+4.j]\n",
      " [ 1.93094561+4.j  6.3283678 +1.j]] \n",
      "\n",
      "Power Method:  ((7.200669773405113+4.7493152342149765j), array([0.5084576 -0.41279697j, 0.46791367-0.59340233j]), 51) \n",
      "\n",
      "Power Method abs:  ((7.066491078212678+3.961947564948273j), array([0.41818271+0.53185342j, 0.63782105+0.368021j  ]), 51) \n",
      "\n",
      "Numpy:  ((7.20064707110742+4.749319377712297j), array([[ 0.94903562+0.j        ,  0.63897831+0.14366495j],\n",
      "       [-0.17295981-0.26346971j,  0.75568981+0.j        ]])) \n",
      "\n",
      "(2.2702297692411832e-05-4.143497320363565e-06j) \n",
      "\n",
      "(-0.13415599289474223-0.7873718127640239j)\n"
     ]
    }
   ],
   "metadata": {}
  }
 ],
 "metadata": {
  "kernelspec": {
   "name": "python3",
   "display_name": "Python 3.8.8 64-bit ('base': conda)"
  },
  "language_info": {
   "codemirror_mode": {
    "name": "ipython",
    "version": 3
   },
   "file_extension": ".py",
   "mimetype": "text/x-python",
   "name": "python",
   "nbconvert_exporter": "python",
   "pygments_lexer": "ipython3",
   "version": "3.8.8"
  },
  "interpreter": {
   "hash": "8fac594bfae6525c0c41b4041d2d72effa188cc8ead05f81b1fab2bb098927fb"
  }
 },
 "nbformat": 4,
 "nbformat_minor": 5
}